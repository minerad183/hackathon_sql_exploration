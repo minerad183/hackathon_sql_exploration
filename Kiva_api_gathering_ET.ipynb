{
 "cells": [
  {
   "cell_type": "markdown",
   "id": "1490cbee",
   "metadata": {},
   "source": [
    "# Extract-Transform-Load from Kiva GraphQL API\n",
    "\n",
    "Authors: Hye Lee, Adam Miner, Charles Ramey"
   ]
  },
  {
   "cell_type": "code",
   "execution_count": 42,
   "id": "4d239c39",
   "metadata": {},
   "outputs": [],
   "source": [
    "#imports\n",
    "\n",
    "import pandas as pd\n",
    "import requests as re\n",
    "import json\n",
    "import time\n",
    "import queue\n",
    "from concurrent.futures import ThreadPoolExecutor"
   ]
  },
  {
   "cell_type": "code",
   "execution_count": 41,
   "id": "6287ea04",
   "metadata": {},
   "outputs": [],
   "source": [
    "#connect to Kiva API\n",
    "base_url = 'https://api.kivaws.org/graphql'\n",
    "\n",
    "graphql_query = \"\"\"\n",
    "query GetData($off: Int!) {\n",
    "  lend {\n",
    "    loans(filters: {status: all}, sortBy: newest, limit: 100, offset: $off) {\n",
    "      values {\n",
    "        activity {\n",
    "          id\n",
    "        }\n",
    "        borrowerCount\n",
    "        borrowers {\n",
    "          id\n",
    "          borrowedAmount\n",
    "          gender\n",
    "          isPrimary\n",
    "        }\n",
    "        descriptionInOriginalLanguage\n",
    "        disbursalDate\n",
    "        fundraisingDate\n",
    "        geocode {\n",
    "          city\n",
    "          country {\n",
    "              name\n",
    "              isoCode\n",
    "              region\n",
    "              ppp\n",
    "              numLoansFundraising\n",
    "              fundsLentInCountry\n",
    "          }\n",
    "          state\n",
    "          postalCode\n",
    "          latitude\n",
    "          longitude\n",
    "        }\n",
    "        id\n",
    "        lenderRepaymentTerm\n",
    "        raisedDate\n",
    "        sector {\n",
    "          id\n",
    "        }\n",
    "        status\n",
    "        tags\n",
    "        terms {\n",
    "          currency\n",
    "          currencyFullName\n",
    "          disbursalAmount\n",
    "          disbursalDate\n",
    "          loanAmount\n",
    "          lenderRepaymentTerm\n",
    "        }\n",
    "      }\n",
    "    }\n",
    "  }\n",
    "}\n",
    "\"\"\""
   ]
  },
  {
   "cell_type": "code",
   "execution_count": 6,
   "id": "ad836254",
   "metadata": {},
   "outputs": [],
   "source": [
    "big_json = []"
   ]
  },
  {
   "cell_type": "code",
   "execution_count": 44,
   "id": "c435c993",
   "metadata": {},
   "outputs": [
    {
     "data": {
      "text/plain": [
       "6512.468266963959"
      ]
     },
     "execution_count": 44,
     "metadata": {},
     "output_type": "execute_result"
    }
   ],
   "source": [
    "#how to programmatically pull the newest data. The example is supposed to pull the million most recent, but last time I ran it I got 700 records\n",
    "#Can I get more data using a nested loop? \n",
    "start_time = time.time()\n",
    "\n",
    "with ThreadPoolExecutor(max_workers= 6) as executor:\n",
    "    executor._work_queue=queue.Queue(maxsize=0)\n",
    "    for i in range(1000):\n",
    "        res = re.post(\n",
    "        base_url,\n",
    "            json = {\n",
    "                    'query': graphql_query,\n",
    "                    'variables': {'off': i * 100}\n",
    "                }\n",
    "        )\n",
    "        res = res.json()\n",
    "        data_json = dict(res)\n",
    "        spec_json_data = data_json['data']['lend']['loans']['values']\n",
    "        big_json.extend(spec_json_data)\n",
    "\n",
    "time.time() - start_time"
   ]
  },
  {
   "cell_type": "code",
   "execution_count": null,
   "id": "9ab8f628",
   "metadata": {},
   "outputs": [],
   "source": [
    "#tqdm library to wrap function in status bar"
   ]
  },
  {
   "cell_type": "code",
   "execution_count": 5,
   "id": "3042f93f",
   "metadata": {},
   "outputs": [],
   "source": [
    "#testing out data ingestion on the sample file given\n",
    "# sample = dict(pd.read_json('.\\data\\sample.json'))\n",
    "# with open('.\\data\\sample.json', 'r') as f:\n",
    "#     json_data = f.read()\n",
    "# sample = json.loads(json_data)\n",
    "# sample_data = sample['data']['lend']['loans']['values']\n",
    "# activity_data = sample_data[1]"
   ]
  },
  {
   "cell_type": "code",
   "execution_count": 6,
   "id": "ff5268e1",
   "metadata": {},
   "outputs": [],
   "source": [
    "# res = res.json()"
   ]
  },
  {
   "cell_type": "code",
   "execution_count": 7,
   "id": "5977716e",
   "metadata": {},
   "outputs": [],
   "source": [
    "# data_json = dict(res)"
   ]
  },
  {
   "cell_type": "code",
   "execution_count": 8,
   "id": "e9dad6d5",
   "metadata": {},
   "outputs": [],
   "source": [
    "# spec_json_data = data_json['data']['lend']['loans']['values']"
   ]
  },
  {
   "cell_type": "code",
   "execution_count": 9,
   "id": "eb20d328",
   "metadata": {},
   "outputs": [],
   "source": [
    "# activity_data = spec_json_data[1]"
   ]
  },
  {
   "cell_type": "code",
   "execution_count": 10,
   "id": "dfd959df",
   "metadata": {
    "scrolled": false
   },
   "outputs": [],
   "source": [
    "# print(activity_data)"
   ]
  },
  {
   "cell_type": "code",
   "execution_count": 45,
   "id": "904145fd",
   "metadata": {},
   "outputs": [],
   "source": [
    "#The data is in list form of dictionaries. Go through each item in the list, and pull out specific columns into their own lists to put into dataframes\n",
    "#Country codes\n",
    "big_list = []\n",
    "countryName = []\n",
    "isoCode = []\n",
    "region = []\n",
    "ppp = []\n",
    "numLoansFundraising = []\n",
    "fundsLentinCountry = []\n",
    "\n",
    "#trying this method out: this is to break out the list into easier parsable parts\n",
    "for i in big_json:\n",
    "    big_list.append(i['geocode']['country'])\n",
    "    \n",
    "    \n",
    "for i in big_list:    \n",
    "    countryName.append(i['name'])\n",
    "    isoCode.append(i['isoCode'])\n",
    "    region.append(i['region'])\n",
    "    ppp.append(i['ppp'])\n",
    "    numLoansFundraising.append(i['numLoansFundraising'])\n",
    "    fundsLentinCountry.append(i['fundsLentInCountry'])"
   ]
  },
  {
   "cell_type": "code",
   "execution_count": 46,
   "id": "7ba07b64",
   "metadata": {},
   "outputs": [],
   "source": [
    "country_df = pd.DataFrame({'countryName': countryName, 'isoCode': isoCode, 'region': region, 'ppp': ppp,\n",
    "                       'numLoansFundraising': numLoansFundraising, 'fundsLentinCountry': fundsLentinCountry})"
   ]
  },
  {
   "cell_type": "code",
   "execution_count": 47,
   "id": "d647cf8f",
   "metadata": {},
   "outputs": [],
   "source": [
    "#remove duplicates from country dataframe\n",
    "country_df = country_df.drop_duplicates()"
   ]
  },
  {
   "cell_type": "code",
   "execution_count": 48,
   "id": "367c0654",
   "metadata": {},
   "outputs": [],
   "source": [
    "export_country_df = country_df.to_csv('.\\data\\country_ref.csv', index = False)"
   ]
  },
  {
   "cell_type": "code",
   "execution_count": 49,
   "id": "5173f77f",
   "metadata": {},
   "outputs": [],
   "source": [
    "#Geocode\n",
    "big_list = []\n",
    "# city_id = [] #to get a unique pkey for city\n",
    "city = []\n",
    "state = []\n",
    "isoCode = []\n",
    "postalCode = []\n",
    "latitude = []\n",
    "longitude = []\n",
    "# city_num = 0\n",
    "\n",
    "#trying this method out: this is to break out the list into easier parsable parts\n",
    "for i in big_json:\n",
    "    big_list.append(i['geocode']['country'])\n",
    "#     city_id.append(city_num)\n",
    "    city.append(i['geocode']['city'])\n",
    "    state.append(i['geocode']['state'])\n",
    "    postalCode.append(i['geocode']['postalCode'])\n",
    "    latitude.append(i['geocode']['latitude'])\n",
    "    longitude.append(i['geocode']['longitude'])\n",
    "#     city_num += 1\n",
    "    \n",
    "for i in big_list:    \n",
    "    isoCode.append(i['isoCode'])"
   ]
  },
  {
   "cell_type": "code",
   "execution_count": 50,
   "id": "ac5475f1",
   "metadata": {},
   "outputs": [],
   "source": [
    "#this one has city id\n",
    "# geocode_df = pd.DataFrame({'city_id': city_id, 'city': city, 'isocode': isocode, 'state': state,\n",
    "#                        'postalCode': postalCode, 'latitude': latitude, 'longitude': longitude})\n",
    "\n",
    "# This one does not have city id\n",
    "geocode_df = pd.DataFrame({'city': city, 'state': state, 'isoCode': isoCode,\n",
    "                       'postalCode': postalCode, 'latitude': latitude, 'longitude': longitude})"
   ]
  },
  {
   "cell_type": "code",
   "execution_count": 51,
   "id": "3af6f5da",
   "metadata": {},
   "outputs": [],
   "source": [
    "#remove duplicates from geocode dataframe\n",
    "geocode_df = geocode_df.drop_duplicates(subset = ['city', 'isoCode', 'state', 'postalCode', 'latitude', 'longitude'])"
   ]
  },
  {
   "cell_type": "code",
   "execution_count": 52,
   "id": "5b449a1d",
   "metadata": {},
   "outputs": [],
   "source": [
    "export_geocode_df = geocode_df.to_csv('.\\data\\geocode_ref.csv', index = False)"
   ]
  },
  {
   "cell_type": "code",
   "execution_count": 53,
   "id": "f3a43b9a",
   "metadata": {},
   "outputs": [],
   "source": [
    "#Currencies\n",
    "currency = []\n",
    "currencyFullName = []\n",
    "\n",
    "for i in big_json:\n",
    "    currency.append(i['terms']['currency'])\n",
    "    currencyFullName.append(i['terms']['currencyFullName'])"
   ]
  },
  {
   "cell_type": "code",
   "execution_count": 54,
   "id": "c9c214b6",
   "metadata": {},
   "outputs": [],
   "source": [
    "#one of the currencies has weird question marks in it. I am going to pull the question marks out\n",
    "currencyFullName = [i.replace('?', '') for i in currencyFullName]"
   ]
  },
  {
   "cell_type": "code",
   "execution_count": 55,
   "id": "d66fbc8c",
   "metadata": {},
   "outputs": [],
   "source": [
    "currencies_df = pd.DataFrame({'currency': currency, 'currencyFullName': currencyFullName})"
   ]
  },
  {
   "cell_type": "code",
   "execution_count": 56,
   "id": "0794231d",
   "metadata": {},
   "outputs": [],
   "source": [
    "#remove duplicates from currency dataframe\n",
    "currencies_df = currencies_df.drop_duplicates()"
   ]
  },
  {
   "cell_type": "code",
   "execution_count": 57,
   "id": "84d19bdc",
   "metadata": {},
   "outputs": [],
   "source": [
    "export_currencies_df = currencies_df.to_csv('.\\data\\currencies_ref.csv', index = False)"
   ]
  },
  {
   "cell_type": "code",
   "execution_count": 58,
   "id": "34aa345c",
   "metadata": {},
   "outputs": [],
   "source": [
    "#The data is in list form of dictionaries. Go through each item in the list, and pull out specific columns into their own lists to put into dataframes\n",
    "#loans\n",
    "loanId = []\n",
    "activityId = []\n",
    "sectorId = []\n",
    "borrowerId = []\n",
    "borrowerCount = []\n",
    "disbursalDate = []\n",
    "disbursalAmount = []\n",
    "lenderRepaymentTerm = []\n",
    "status = []\n",
    "loanAmount = []\n",
    "\n",
    "for i in big_json:\n",
    "    loanId.append(i['id'])\n",
    "    activityId.append(i['activity']['id'])\n",
    "    sectorId.append(i['sector']['id'])\n",
    "    borrowerId.append(i['borrowers'][0]['id'])\n",
    "    borrowerCount.append(i['borrowerCount'])\n",
    "    disbursalDate.append(i['disbursalDate'])\n",
    "    disbursalAmount.append(i['terms']['disbursalAmount'])\n",
    "    lenderRepaymentTerm.append(i['lenderRepaymentTerm'])\n",
    "    status.append(i['status'])\n",
    "    loanAmount.append(i['terms']['loanAmount'])"
   ]
  },
  {
   "cell_type": "code",
   "execution_count": 59,
   "id": "3b5aed53",
   "metadata": {},
   "outputs": [],
   "source": [
    "# #this one has some generated id fields in it\n",
    "# loan_df = pd.DataFrame({'loan_id': loan_id, 'borrowerCount': borrowerCount, 'borrowers_id': borrowers_id, 'disbursalDate': disbursalDate,\n",
    "#                        'lenderRepaymentTerm': lenderRepaymentTerm, 'status': status, 'currency': currency, 'currencyFullName': currencyFullName,\n",
    "#                        'disbursalAmount': disbursalAmount, 'disbursalDate': disbursalDate, 'loanAmount': loanAmount, 'isocode': isocode, 'city_id': city_id})\n",
    "\n",
    "#This one does not have the generated id fields in them, and includes some columns to join up with tables in the Load part of ETL\n",
    "loan_df = pd.DataFrame({'loanId': loanId, 'activityId': activityId, 'sectorId': sectorId, 'borrowerId': borrowerId, 'borrowerCount': borrowerCount, 'disbursalDate': disbursalDate,\n",
    "                       'disbursalAmount': disbursalAmount, 'lenderRepaymentTerm': lenderRepaymentTerm, 'status': status, 'loanAmount': loanAmount, 'currencyFullName': currencyFullName,\n",
    "                        'isoCode': isoCode, 'city': city})\n"
   ]
  },
  {
   "cell_type": "code",
   "execution_count": null,
   "id": "b29f8c26",
   "metadata": {},
   "outputs": [],
   "source": [
    "loan_df = loan_df.drop_duplicates(subset = ['loanId'])"
   ]
  },
  {
   "cell_type": "code",
   "execution_count": 60,
   "id": "a0bd9a91",
   "metadata": {},
   "outputs": [],
   "source": [
    "export_loan_df = loan_df.to_csv('.\\data\\loan_df.csv', index = False)"
   ]
  },
  {
   "cell_type": "code",
   "execution_count": 61,
   "id": "263d10b4",
   "metadata": {},
   "outputs": [],
   "source": [
    "#Crowdsourced\n",
    "loanId = []\n",
    "borrowerId = []\n",
    "fundraisingDate = []\n",
    "raisedDate = []\n",
    "\n",
    "for i in big_json:\n",
    "    loanId.append(i['id'])\n",
    "    borrowerId.append(i['borrowers'][0]['id'])\n",
    "    fundraisingDate.append(i['fundraisingDate'])\n",
    "    raisedDate.append(i['raisedDate'])"
   ]
  },
  {
   "cell_type": "code",
   "execution_count": 62,
   "id": "9f209f5c",
   "metadata": {},
   "outputs": [],
   "source": [
    "crowdsourced_df = pd.DataFrame({'loanId': loanId, 'borrowerId': borrowerId, 'fundraisingDate': fundraisingDate, 'state': state,\n",
    "                       'raisedDate': raisedDate})"
   ]
  },
  {
   "cell_type": "code",
   "execution_count": 63,
   "id": "bd42d828",
   "metadata": {},
   "outputs": [],
   "source": [
    "crowdsourced_df = crowdsourced_df.drop_duplicates(subset = ['borrowerId'])"
   ]
  },
  {
   "cell_type": "code",
   "execution_count": 64,
   "id": "dfef6a67",
   "metadata": {},
   "outputs": [],
   "source": [
    "export_crowdsourced_df = crowdsourced_df.to_csv('.\\data\\crowdsourced_df.csv', index = False)"
   ]
  },
  {
   "cell_type": "code",
   "execution_count": 65,
   "id": "dffe6641",
   "metadata": {},
   "outputs": [],
   "source": [
    "#Utility\n",
    "loanId = []\n",
    "activityId = []\n",
    "sectorId = []\n",
    "tags = []\n",
    "descriptionInOriginalLanguage = []\n",
    "\n",
    "#trying this method out: this is to break out the list into easier parsable parts\n",
    "for i in big_json:\n",
    "    loanId.append(i['id'])\n",
    "    activityId.append(i['activity']['id'])\n",
    "    sectorId.append(i['sector']['id'])\n",
    "    tags.append(i['tags'])\n",
    "    descriptionInOriginalLanguage.append(i['descriptionInOriginalLanguage'])"
   ]
  },
  {
   "cell_type": "code",
   "execution_count": 66,
   "id": "4d1d0523",
   "metadata": {},
   "outputs": [],
   "source": [
    "utility_df = pd.DataFrame({'loanId': loanId, 'activityId': activityId, 'sectorId': sectorId, 'tags': tags,\n",
    "                       'descriptionInOriginalLanguage': descriptionInOriginalLanguage})"
   ]
  },
  {
   "cell_type": "code",
   "execution_count": 67,
   "id": "c65d780a",
   "metadata": {},
   "outputs": [],
   "source": [
    "export_utility_df = utility_df.to_csv('.\\\\data\\\\utility_df.csv', index = False)"
   ]
  },
  {
   "cell_type": "code",
   "execution_count": 68,
   "id": "b395d146",
   "metadata": {},
   "outputs": [],
   "source": [
    "# #Borrowers\n",
    "# loan_id = []\n",
    "# borrowers_id = []\n",
    "# borrowedAmount = []\n",
    "# isPrimary = []\n",
    "\n",
    "# #trying this method out: this is to break out the list into easier parsable parts\n",
    "# for i in big_json:\n",
    "#     loan_id.append(i['id'])\n",
    "#     borrowers_id.append(i['borrowers'][0]['id'])\n",
    "#     borrowedAmount.append(i['borrowers'][0]['borrowedAmount'])\n",
    "#     isPrimary.append(i['borrowers'][0]['isPrimary'])"
   ]
  },
  {
   "cell_type": "code",
   "execution_count": 69,
   "id": "7fb71886",
   "metadata": {},
   "outputs": [],
   "source": [
    "# borrowers_df = pd.DataFrame({'loan_id': loan_id, 'borrowers_id': borrowers_id, 'borrowedAmount': borrowedAmount, 'isPrimary': isPrimary})"
   ]
  },
  {
   "cell_type": "code",
   "execution_count": 70,
   "id": "55d5cf3e",
   "metadata": {},
   "outputs": [],
   "source": [
    "# export_borrowers_df = borrowers_df.to_csv('.\\\\data\\\\borrowers_df.csv', index = False)"
   ]
  },
  {
   "cell_type": "code",
   "execution_count": 71,
   "id": "27717dc5",
   "metadata": {},
   "outputs": [],
   "source": [
    "#Demographics\n",
    "borrowerId = []\n",
    "borrowedAmount = []\n",
    "isPrimary = []\n",
    "gender = []\n",
    "\n",
    "\n",
    "for i in big_json:\n",
    "    borrowerId.append(i['borrowers'][0]['id'])\n",
    "    borrowedAmount.append(i['borrowers'][0]['borrowedAmount'])\n",
    "    isPrimary.append(i['borrowers'][0]['isPrimary'])\n",
    "    gender.append(i['borrowers'][0]['gender'])"
   ]
  },
  {
   "cell_type": "code",
   "execution_count": 72,
   "id": "03518b5b",
   "metadata": {},
   "outputs": [],
   "source": [
    "demographics_df = pd.DataFrame({'borrowerId': borrowerId, 'borrowedAmount': borrowedAmount, 'isPrimary': isPrimary, 'gender': gender})"
   ]
  },
  {
   "cell_type": "code",
   "execution_count": 73,
   "id": "627e1c74",
   "metadata": {},
   "outputs": [],
   "source": [
    "demographics_df = demographics_df.drop_duplicates(subset = ['borrowerId'])"
   ]
  },
  {
   "cell_type": "code",
   "execution_count": 74,
   "id": "1d6f3bdb",
   "metadata": {},
   "outputs": [],
   "source": [
    "export_demographics_df = demographics_df.to_csv('.\\data\\demographics_df.csv', index = False)"
   ]
  },
  {
   "cell_type": "code",
   "execution_count": null,
   "id": "7a989484",
   "metadata": {},
   "outputs": [],
   "source": []
  }
 ],
 "metadata": {
  "kernelspec": {
   "display_name": "Python 3 (ipykernel)",
   "language": "python",
   "name": "python3"
  },
  "language_info": {
   "codemirror_mode": {
    "name": "ipython",
    "version": 3
   },
   "file_extension": ".py",
   "mimetype": "text/x-python",
   "name": "python",
   "nbconvert_exporter": "python",
   "pygments_lexer": "ipython3",
   "version": "3.9.13"
  }
 },
 "nbformat": 4,
 "nbformat_minor": 5
}
